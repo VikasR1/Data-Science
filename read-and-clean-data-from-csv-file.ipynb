{
 "cells": [
  {
   "cell_type": "markdown",
   "metadata": {},
   "source": [
    "# read-and-clean-data-from-csv-file\n",
    "\n",
    "Objective\n",
    " - The purpose of this project is to clean the csv files of multiple urls.\n",
    " - This `csv` file contains multiple wrong entires, so we have to remove those line from original list\n",
    " - To do this, first we will check the length of sheet or count the no of entries in the file\n",
    " - Then, we will write / save the entires in new file by applying a condition to remove incorrect entries\n",
    " - Finally, we will check the count from new file"
   ]
  },
  {
   "cell_type": "markdown",
   "metadata": {},
   "source": [
    "###  Check the count from file"
   ]
  },
  {
   "cell_type": "code",
   "execution_count": 1,
   "metadata": {},
   "outputs": [
    {
     "name": "stdout",
     "output_type": "stream",
     "text": [
      "Total urls found in text file are 4816\n"
     ]
    }
   ],
   "source": [
    "read_file = open('dr_link.txt', 'r')\n",
    "Lines = read_file.readlines()\n",
    "print(\"Total urls found in text file are {}\". format(len(Lines)))"
   ]
  },
  {
   "cell_type": "markdown",
   "metadata": {},
   "source": [
    "###  removing incorrect entries and creating a new file"
   ]
  },
  {
   "cell_type": "code",
   "execution_count": 3,
   "metadata": {},
   "outputs": [
    {
     "name": "stdout",
     "output_type": "stream",
     "text": [
      "Deleted\n"
     ]
    }
   ],
   "source": [
    "# deleting a line on the basis\n",
    "# of a matching text (exactly)\n",
    "\n",
    "# we want to remove a line\n",
    "# with text = 'https://www.drdata.in/'\n",
    "try:\n",
    "\twith open('dr_link.txt', 'r') as fr:\n",
    "\t\tlines = fr.readlines()\n",
    "\n",
    "\t\twith open('dr_link1.txt', 'w') as fw:\n",
    "\t\t\tfor line in lines:\n",
    "\t\t\t\n",
    "\t\t\t\t# strip() is used to remove '\\n'\n",
    "\t\t\t\t# present at the end of each line\n",
    "\t\t\t\tif line.strip('\\n') != 'https://www.drdata.in/':\n",
    "\t\t\t\t\tfw.write(line)\n",
    "\tprint(\"Deleted\")\n",
    "except:\n",
    "\tprint(\"Oops! something error\")\n"
   ]
  },
  {
   "cell_type": "markdown",
   "metadata": {},
   "source": [
    "###  Check the count from new file"
   ]
  },
  {
   "cell_type": "code",
   "execution_count": 6,
   "metadata": {},
   "outputs": [
    {
     "name": "stdout",
     "output_type": "stream",
     "text": [
      "Total urls found in text file are 4747\n"
     ]
    }
   ],
   "source": [
    "read_file = open('dr_link1.txt', 'r')\n",
    "pLines = read_file.readlines()\n",
    "print(\"Total urls found in text file are {}\". format(len(pLines)))\n"
   ]
  },
  {
   "cell_type": "markdown",
   "metadata": {},
   "source": [
    "###  applying same filtering process again to new file"
   ]
  },
  {
   "cell_type": "code",
   "execution_count": 9,
   "metadata": {},
   "outputs": [
    {
     "name": "stdout",
     "output_type": "stream",
     "text": [
      "Deleted\n"
     ]
    }
   ],
   "source": [
    "# deleting a line on the basis\n",
    "# of a matching text (exactly)\n",
    "\n",
    "# we want to remove a line\n",
    "# with text = 'https://www.drdata.in/#'\n",
    "try:\n",
    "\twith open('dr_link1.txt', 'r') as fr:\n",
    "\t\tlines = fr.readlines()\n",
    "\n",
    "\t\twith open('dr_link2.txt', 'w') as fw:\n",
    "\t\t\tfor line in lines:\n",
    "\t\t\t\n",
    "\t\t\t\t# strip() is used to remove '\\n'\n",
    "\t\t\t\t# present at the end of each line\n",
    "\t\t\t\tif line.strip('\\n') != 'https://www.drdata.in/#':\n",
    "\t\t\t\t\tfw.write(line)\n",
    "\tprint(\"Deleted\")\n",
    "except:\n",
    "\tprint(\"Oops! something error\")\n"
   ]
  },
  {
   "cell_type": "markdown",
   "metadata": {},
   "source": [
    "###  Check the count from newly created file\n",
    "\n",
    "**Note:** we will continue this process until all incorrect entries are not removed"
   ]
  },
  {
   "cell_type": "code",
   "execution_count": 10,
   "metadata": {},
   "outputs": [
    {
     "name": "stdout",
     "output_type": "stream",
     "text": [
      "Total urls found in text file are 4747\n"
     ]
    }
   ],
   "source": [
    "read_file = open('dr_link1.txt', 'r')\n",
    "p1Lines = read_file.readlines()\n",
    "print(\"Total urls found in text file are {}\". format(len(p1Lines)))\n"
   ]
  },
  {
   "cell_type": "code",
   "execution_count": 12,
   "metadata": {},
   "outputs": [],
   "source": [
    "# p1Lines"
   ]
  },
  {
   "cell_type": "code",
   "execution_count": null,
   "metadata": {},
   "outputs": [],
   "source": []
  }
 ],
 "metadata": {
  "language_info": {
   "codemirror_mode": {
    "name": "ipython",
    "version": 3
   },
   "file_extension": ".py",
   "mimetype": "text/x-python",
   "name": "python",
   "nbconvert_exporter": "python",
   "pygments_lexer": "ipython3",
   "version": "3.9.6"
  }
 },
 "nbformat": 4,
 "nbformat_minor": 2
}